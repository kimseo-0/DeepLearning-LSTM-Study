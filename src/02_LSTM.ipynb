{
 "cells": [
  {
   "cell_type": "markdown",
   "id": "37712bc1",
   "metadata": {},
   "source": [
    "# 1. 데이터 불러오기"
   ]
  },
  {
   "cell_type": "code",
   "execution_count": 1,
   "id": "11032670",
   "metadata": {},
   "outputs": [
    {
     "name": "stdout",
     "output_type": "stream",
     "text": [
      "2020-09-10 2025-09-09\n"
     ]
    },
    {
     "name": "stderr",
     "output_type": "stream",
     "text": [
      "C:\\Users\\user\\AppData\\Local\\Temp\\ipykernel_28584\\4076130856.py:12: FutureWarning: YF.download() has changed argument auto_adjust default to True\n",
      "  data = yf.download(\n",
      "[*********************100%***********************]  1 of 1 completed\n"
     ]
    },
    {
     "data": {
      "text/html": [
       "<div>\n",
       "<style scoped>\n",
       "    .dataframe tbody tr th:only-of-type {\n",
       "        vertical-align: middle;\n",
       "    }\n",
       "\n",
       "    .dataframe tbody tr th {\n",
       "        vertical-align: top;\n",
       "    }\n",
       "\n",
       "    .dataframe thead tr th {\n",
       "        text-align: left;\n",
       "    }\n",
       "\n",
       "    .dataframe thead tr:last-of-type th {\n",
       "        text-align: right;\n",
       "    }\n",
       "</style>\n",
       "<table border=\"1\" class=\"dataframe\">\n",
       "  <thead>\n",
       "    <tr>\n",
       "      <th>Price</th>\n",
       "      <th>Close</th>\n",
       "      <th>High</th>\n",
       "      <th>Low</th>\n",
       "      <th>Open</th>\n",
       "      <th>Volume</th>\n",
       "    </tr>\n",
       "    <tr>\n",
       "      <th>Ticker</th>\n",
       "      <th>009450.KS</th>\n",
       "      <th>009450.KS</th>\n",
       "      <th>009450.KS</th>\n",
       "      <th>009450.KS</th>\n",
       "      <th>009450.KS</th>\n",
       "    </tr>\n",
       "    <tr>\n",
       "      <th>Date</th>\n",
       "      <th></th>\n",
       "      <th></th>\n",
       "      <th></th>\n",
       "      <th></th>\n",
       "      <th></th>\n",
       "    </tr>\n",
       "  </thead>\n",
       "  <tbody>\n",
       "    <tr>\n",
       "      <th>2020-09-10</th>\n",
       "      <td>57102.957031</td>\n",
       "      <td>58816.045742</td>\n",
       "      <td>55009.181940</td>\n",
       "      <td>55389.868320</td>\n",
       "      <td>384979</td>\n",
       "    </tr>\n",
       "    <tr>\n",
       "      <th>2020-09-11</th>\n",
       "      <td>57293.300781</td>\n",
       "      <td>58054.673549</td>\n",
       "      <td>55389.868862</td>\n",
       "      <td>56531.928013</td>\n",
       "      <td>153445</td>\n",
       "    </tr>\n",
       "    <tr>\n",
       "      <th>2020-09-14</th>\n",
       "      <td>55865.730469</td>\n",
       "      <td>57293.304501</td>\n",
       "      <td>55580.215662</td>\n",
       "      <td>57293.304501</td>\n",
       "      <td>125104</td>\n",
       "    </tr>\n",
       "    <tr>\n",
       "      <th>2020-09-15</th>\n",
       "      <td>56246.414062</td>\n",
       "      <td>56531.928855</td>\n",
       "      <td>54438.153712</td>\n",
       "      <td>55865.727673</td>\n",
       "      <td>107441</td>\n",
       "    </tr>\n",
       "    <tr>\n",
       "      <th>2020-09-16</th>\n",
       "      <td>55865.730469</td>\n",
       "      <td>58530.535329</td>\n",
       "      <td>54533.328038</td>\n",
       "      <td>56246.416877</td>\n",
       "      <td>234832</td>\n",
       "    </tr>\n",
       "  </tbody>\n",
       "</table>\n",
       "</div>"
      ],
      "text/plain": [
       "Price              Close          High           Low          Open    Volume\n",
       "Ticker         009450.KS     009450.KS     009450.KS     009450.KS 009450.KS\n",
       "Date                                                                        \n",
       "2020-09-10  57102.957031  58816.045742  55009.181940  55389.868320    384979\n",
       "2020-09-11  57293.300781  58054.673549  55389.868862  56531.928013    153445\n",
       "2020-09-14  55865.730469  57293.304501  55580.215662  57293.304501    125104\n",
       "2020-09-15  56246.414062  56531.928855  54438.153712  55865.727673    107441\n",
       "2020-09-16  55865.730469  58530.535329  54533.328038  56246.416877    234832"
      ]
     },
     "execution_count": 1,
     "metadata": {},
     "output_type": "execute_result"
    }
   ],
   "source": [
    "# uv add yfinance \n",
    "import yfinance as yf \n",
    "from datetime import date, timedelta \n",
    "\n",
    "year = 5\n",
    "today = date.today()\n",
    "end_date = today.strftime(\"%Y-%m-%d\")\n",
    "start_date = today - timedelta(days=365*year)\n",
    "\n",
    "print(start_date, end_date)\n",
    "\n",
    "data = yf.download(\n",
    "    tickers = \"009450.KS\",\n",
    "    start = start_date,\n",
    "    end = end_date\n",
    ")\n",
    "data.head()"
   ]
  },
  {
   "cell_type": "code",
   "execution_count": 2,
   "id": "f69e7886",
   "metadata": {},
   "outputs": [
    {
     "data": {
      "text/html": [
       "<div>\n",
       "<style scoped>\n",
       "    .dataframe tbody tr th:only-of-type {\n",
       "        vertical-align: middle;\n",
       "    }\n",
       "\n",
       "    .dataframe tbody tr th {\n",
       "        vertical-align: top;\n",
       "    }\n",
       "\n",
       "    .dataframe thead th {\n",
       "        text-align: right;\n",
       "    }\n",
       "</style>\n",
       "<table border=\"1\" class=\"dataframe\">\n",
       "  <thead>\n",
       "    <tr style=\"text-align: right;\">\n",
       "      <th>Price</th>\n",
       "      <th>Close</th>\n",
       "      <th>High</th>\n",
       "      <th>Low</th>\n",
       "      <th>Open</th>\n",
       "      <th>Volume</th>\n",
       "    </tr>\n",
       "    <tr>\n",
       "      <th>Date</th>\n",
       "      <th></th>\n",
       "      <th></th>\n",
       "      <th></th>\n",
       "      <th></th>\n",
       "      <th></th>\n",
       "    </tr>\n",
       "  </thead>\n",
       "  <tbody>\n",
       "    <tr>\n",
       "      <th>2020-09-10</th>\n",
       "      <td>57102.957031</td>\n",
       "      <td>58816.045742</td>\n",
       "      <td>55009.181940</td>\n",
       "      <td>55389.868320</td>\n",
       "      <td>384979</td>\n",
       "    </tr>\n",
       "    <tr>\n",
       "      <th>2020-09-11</th>\n",
       "      <td>57293.300781</td>\n",
       "      <td>58054.673549</td>\n",
       "      <td>55389.868862</td>\n",
       "      <td>56531.928013</td>\n",
       "      <td>153445</td>\n",
       "    </tr>\n",
       "    <tr>\n",
       "      <th>2020-09-14</th>\n",
       "      <td>55865.730469</td>\n",
       "      <td>57293.304501</td>\n",
       "      <td>55580.215662</td>\n",
       "      <td>57293.304501</td>\n",
       "      <td>125104</td>\n",
       "    </tr>\n",
       "    <tr>\n",
       "      <th>2020-09-15</th>\n",
       "      <td>56246.414062</td>\n",
       "      <td>56531.928855</td>\n",
       "      <td>54438.153712</td>\n",
       "      <td>55865.727673</td>\n",
       "      <td>107441</td>\n",
       "    </tr>\n",
       "    <tr>\n",
       "      <th>2020-09-16</th>\n",
       "      <td>55865.730469</td>\n",
       "      <td>58530.535329</td>\n",
       "      <td>54533.328038</td>\n",
       "      <td>56246.416877</td>\n",
       "      <td>234832</td>\n",
       "    </tr>\n",
       "  </tbody>\n",
       "</table>\n",
       "</div>"
      ],
      "text/plain": [
       "Price              Close          High           Low          Open  Volume\n",
       "Date                                                                      \n",
       "2020-09-10  57102.957031  58816.045742  55009.181940  55389.868320  384979\n",
       "2020-09-11  57293.300781  58054.673549  55389.868862  56531.928013  153445\n",
       "2020-09-14  55865.730469  57293.304501  55580.215662  57293.304501  125104\n",
       "2020-09-15  56246.414062  56531.928855  54438.153712  55865.727673  107441\n",
       "2020-09-16  55865.730469  58530.535329  54533.328038  56246.416877  234832"
      ]
     },
     "execution_count": 2,
     "metadata": {},
     "output_type": "execute_result"
    }
   ],
   "source": [
    "# 멀티컬럼 제거하기 \n",
    "data.columns = data.columns.droplevel(1)\n",
    "data.head()"
   ]
  },
  {
   "cell_type": "code",
   "execution_count": 3,
   "id": "16e7de90",
   "metadata": {},
   "outputs": [
    {
     "data": {
      "text/html": [
       "<div>\n",
       "<style scoped>\n",
       "    .dataframe tbody tr th:only-of-type {\n",
       "        vertical-align: middle;\n",
       "    }\n",
       "\n",
       "    .dataframe tbody tr th {\n",
       "        vertical-align: top;\n",
       "    }\n",
       "\n",
       "    .dataframe thead th {\n",
       "        text-align: right;\n",
       "    }\n",
       "</style>\n",
       "<table border=\"1\" class=\"dataframe\">\n",
       "  <thead>\n",
       "    <tr style=\"text-align: right;\">\n",
       "      <th>Price</th>\n",
       "      <th>Close</th>\n",
       "    </tr>\n",
       "    <tr>\n",
       "      <th>Date</th>\n",
       "      <th></th>\n",
       "    </tr>\n",
       "  </thead>\n",
       "  <tbody>\n",
       "    <tr>\n",
       "      <th>2020-09-10</th>\n",
       "      <td>57102.957031</td>\n",
       "    </tr>\n",
       "    <tr>\n",
       "      <th>2020-09-11</th>\n",
       "      <td>57293.300781</td>\n",
       "    </tr>\n",
       "    <tr>\n",
       "      <th>2020-09-14</th>\n",
       "      <td>55865.730469</td>\n",
       "    </tr>\n",
       "    <tr>\n",
       "      <th>2020-09-15</th>\n",
       "      <td>56246.414062</td>\n",
       "    </tr>\n",
       "    <tr>\n",
       "      <th>2020-09-16</th>\n",
       "      <td>55865.730469</td>\n",
       "    </tr>\n",
       "  </tbody>\n",
       "</table>\n",
       "</div>"
      ],
      "text/plain": [
       "Price              Close\n",
       "Date                    \n",
       "2020-09-10  57102.957031\n",
       "2020-09-11  57293.300781\n",
       "2020-09-14  55865.730469\n",
       "2020-09-15  56246.414062\n",
       "2020-09-16  55865.730469"
      ]
     },
     "execution_count": 3,
     "metadata": {},
     "output_type": "execute_result"
    }
   ],
   "source": [
    "data = data[[\"Close\"]]\n",
    "data.head()"
   ]
  },
  {
   "cell_type": "code",
   "execution_count": 4,
   "id": "5ee4210d",
   "metadata": {},
   "outputs": [],
   "source": [
    "# scikit-learn pandas matplotlib \n",
    "# CUDA를 사용하기 위한 torch 설치 *"
   ]
  },
  {
   "cell_type": "code",
   "execution_count": 5,
   "id": "e87d929a",
   "metadata": {},
   "outputs": [
    {
     "name": "stdout",
     "output_type": "stream",
     "text": [
      "2.8.0+cu126\n",
      "cuda\n"
     ]
    }
   ],
   "source": [
    "import torch\n",
    "print(torch.__version__)\n",
    "device = \"cuda\" if torch.cuda.is_available() else \"cpu\"\n",
    "print(device)"
   ]
  },
  {
   "cell_type": "markdown",
   "id": "8cbb3914",
   "metadata": {},
   "source": [
    "# 2. 데이터 분할"
   ]
  },
  {
   "cell_type": "code",
   "execution_count": 6,
   "id": "22bc7afd",
   "metadata": {},
   "outputs": [
    {
     "name": "stdout",
     "output_type": "stream",
     "text": [
      "Train Data: (857, 1), Val Data: (122, 1), Test Data: (244, 1)\n"
     ]
    }
   ],
   "source": [
    "N = len(data)\n",
    "test_ratio = 0.2 \n",
    "val_ratio = 0.1\n",
    "\n",
    "test_size = int(N * test_ratio)\n",
    "val_size = int(N * val_ratio)\n",
    "train_size = N - val_size - test_size\n",
    "\n",
    "# 시계열 데이터는 데이터 사이의 순서가 있으므로 다음과 같이 분할한다\n",
    "train_data = data.iloc[:train_size]\n",
    "val_data = data.iloc[train_size:(train_size+val_size)]\n",
    "test_data = data.iloc[(train_size+val_size):]\n",
    "\n",
    "print(f\"Train Data: {train_data.shape}, Val Data: {val_data.shape}, Test Data: {test_data.shape}\")"
   ]
  },
  {
   "cell_type": "markdown",
   "id": "2bbef1b1",
   "metadata": {},
   "source": [
    "# 3. 데이터 스케일러 적용"
   ]
  },
  {
   "cell_type": "code",
   "execution_count": 7,
   "id": "1116e34f",
   "metadata": {},
   "outputs": [
    {
     "name": "stdout",
     "output_type": "stream",
     "text": [
      "[[0. ]\n",
      " [0.5]\n",
      " [1. ]]\n",
      "[[-0.5]\n",
      " [ 0. ]\n",
      " [ 0.5]\n",
      " [ 1. ]\n",
      " [ 1.5]]\n"
     ]
    }
   ],
   "source": [
    "import pandas as pd\n",
    "from sklearn.preprocessing import MinMaxScaler\n",
    "\n",
    "scaler = MinMaxScaler()\n",
    "data_a = pd.DataFrame([50, 100, 150]) # 예상 결과 0, 0.5, 1\n",
    "data_b = pd.DataFrame([0, 50, 100, 150, 200]) # 예상 결과 -0.5, 0, 0.5, 1, 1.5\n",
    "scaler_a = scaler.fit_transform(data_a.values)\n",
    "scaler_b = scaler.transform(data_b.values)\n",
    "print(scaler_a)\n",
    "print(scaler_b)"
   ]
  },
  {
   "cell_type": "code",
   "execution_count": 8,
   "id": "797b0e79",
   "metadata": {},
   "outputs": [
    {
     "name": "stdout",
     "output_type": "stream",
     "text": [
      "train_scaled: float64\n",
      "val_scaled: float64\n",
      "test_scaled: float64\n",
      "Scale 범위: [32080.44335938], [74072.03125]\n"
     ]
    }
   ],
   "source": [
    "from sklearn.preprocessing import MinMaxScaler\n",
    "# 질문1. MinMaxScaler는 무엇일까?  : 각 값간의 거리 비율을 유지한 상태에서 최대 최소 값을 1 0 으로 축소한다\n",
    "# 질문2. 스케일러를 사용할 때 반드시 주의해야할 점은 무엇일까? : val, test 데이터는 스케일러에 포함하지 말 것\n",
    "\n",
    "scaler = MinMaxScaler()\n",
    "train_scaled = scaler.fit_transform(train_data.values) # train의 스케일링 기준울 기억 이후 val, test 로 평가할 떄 사용\n",
    "val_scaled = scaler.transform(val_data.values)      \n",
    "test_scaled = scaler.transform(test_data.values)    \n",
    "\n",
    "print(f\"train_scaled: {train_scaled.dtype}\")\n",
    "print(f\"val_scaled: {val_scaled.dtype}\")\n",
    "print(f\"test_scaled: {test_scaled.dtype}\")\n",
    "\n",
    "print(f\"Scale 범위: {scaler.data_min_}, {scaler.data_max_}\")"
   ]
  },
  {
   "cell_type": "markdown",
   "id": "8ae4a459",
   "metadata": {},
   "source": [
    "# 4. 학습 데이터"
   ]
  },
  {
   "cell_type": "code",
   "execution_count": 9,
   "id": "56396273",
   "metadata": {},
   "outputs": [
    {
     "name": "stdout",
     "output_type": "stream",
     "text": [
      "(857, 1)\n"
     ]
    }
   ],
   "source": [
    "print(train_scaled.shape)"
   ]
  },
  {
   "attachments": {
    "image.png": {
     "image/png": "[encoded data removed]"
    }
   },
   "cell_type": "markdown",
   "id": "c214aaba",
   "metadata": {},
   "source": [
    "![image.png](attachment:image.png)"
   ]
  },
  {
   "cell_type": "code",
   "execution_count": 10,
   "id": "2921f5e0",
   "metadata": {},
   "outputs": [
    {
     "name": "stdout",
     "output_type": "stream",
     "text": [
      "(797, 60, 1) (797, 1)\n",
      "(122, 1) (122, 60, 1) (122, 1)\n",
      "(244, 1) (244, 60, 1) (244, 1)\n"
     ]
    }
   ],
   "source": [
    "import numpy as np \n",
    "# 질문 1. Window가 무엇을 의미하는지 설명할 수 있다. \n",
    "# 질문 2. train data가 몇 개 나오는지 설명할 수 있다. > 전체 데이터 - 윈도우 사이즈\n",
    "def make_dataset(data, window):\n",
    "    dataX = []\n",
    "    datay = []\n",
    "\n",
    "    for i in range(0, data.shape[0] - window):\n",
    "        x = data[i:(i + window), :]\n",
    "        y = data[(i + window), [-1]]\n",
    "        \n",
    "        dataX.append(x)\n",
    "        datay.append(y)\n",
    "    \n",
    "    return np.array(dataX), np.array(datay)\n",
    "\n",
    "window = 60\n",
    "X_train, y_train = make_dataset(train_scaled, window)\n",
    "# val_scaled의 X, y를 만들기 위해서는 train_scaled에서 맨 뒤에서 window만큼 가져와야 한다. \n",
    "X_val, y_val = make_dataset(np.concatenate([train_scaled[-window:], val_scaled]), window)\n",
    "X_test, y_test = make_dataset(np.concatenate([val_scaled[-window:], test_scaled]), window)\n",
    "\n",
    "print(X_train.shape, y_train.shape)\n",
    "print(val_scaled.shape, X_val.shape, y_val.shape)\n",
    "print(test_scaled.shape, X_test.shape, y_test.shape)"
   ]
  },
  {
   "cell_type": "code",
   "execution_count": 11,
   "id": "2ed368cb",
   "metadata": {},
   "outputs": [
    {
     "name": "stdout",
     "output_type": "stream",
     "text": [
      "[[ 1  2]\n",
      " [ 3  4]\n",
      " [ 7  8]\n",
      " [ 9 10]\n",
      " [11 12]]\n"
     ]
    }
   ],
   "source": [
    "import numpy as np\n",
    "\n",
    "a = np.array([[1, 2], [3, 4]])\n",
    "b = np.array([[7, 8], [9, 10], [11, 12]])\n",
    "\n",
    "print(np.concatenate((a, b), axis=0))"
   ]
  },
  {
   "cell_type": "code",
   "execution_count": 12,
   "id": "e599fc04",
   "metadata": {},
   "outputs": [
    {
     "name": "stdout",
     "output_type": "stream",
     "text": [
      "[1. 2.]\n",
      "[2.]\n"
     ]
    }
   ],
   "source": [
    "import numpy as np\n",
    "test_data = np.array([[1.0, 2.0]])\n",
    "print(test_data[0])\n",
    "print(test_data[0, [-1]])"
   ]
  },
  {
   "cell_type": "markdown",
   "id": "9d698094",
   "metadata": {},
   "source": [
    "# 5. DataLoader 만들기"
   ]
  },
  {
   "cell_type": "code",
   "execution_count": 13,
   "id": "4fbfd01f",
   "metadata": {},
   "outputs": [],
   "source": [
    "import torch\n",
    "\n",
    "X_train_ts = torch.FloatTensor(X_train)\n",
    "y_train_ts = torch.FloatTensor(y_train)\n",
    "X_val_ts = torch.FloatTensor(X_val)\n",
    "y_val_ts = torch.FloatTensor(y_val)\n",
    "X_test_ts = torch.FloatTensor(X_test)\n",
    "y_test_ts = torch.FloatTensor(X_test)"
   ]
  },
  {
   "cell_type": "code",
   "execution_count": 14,
   "id": "ad41c242",
   "metadata": {},
   "outputs": [
    {
     "name": "stdout",
     "output_type": "stream",
     "text": [
      "797\n",
      "(tensor([[0.5959],\n",
      "        [0.6004],\n",
      "        [0.5664],\n",
      "        [0.5755],\n",
      "        [0.5664],\n",
      "        [0.5143],\n",
      "        [0.5166],\n",
      "        [0.4758],\n",
      "        [0.4576],\n",
      "        [0.4735],\n",
      "        [0.4372],\n",
      "        [0.3806],\n",
      "        [0.4395],\n",
      "        [0.4304],\n",
      "        [0.4848],\n",
      "        [0.4916],\n",
      "        [0.4848],\n",
      "        [0.5120],\n",
      "        [0.5188],\n",
      "        [0.5188],\n",
      "        [0.4871],\n",
      "        [0.4780],\n",
      "        [0.4576],\n",
      "        [0.4599],\n",
      "        [0.4667],\n",
      "        [0.4894],\n",
      "        [0.4667],\n",
      "        [0.4644],\n",
      "        [0.4146],\n",
      "        [0.4214],\n",
      "        [0.4395],\n",
      "        [0.4372],\n",
      "        [0.4372],\n",
      "        [0.4440],\n",
      "        [0.4440],\n",
      "        [0.4327],\n",
      "        [0.4418],\n",
      "        [0.4599],\n",
      "        [0.5007],\n",
      "        [0.5664],\n",
      "        [0.5279],\n",
      "        [0.4894],\n",
      "        [0.4894],\n",
      "        [0.4871],\n",
      "        [0.4667],\n",
      "        [0.4690],\n",
      "        [0.4871],\n",
      "        [0.4871],\n",
      "        [0.4780],\n",
      "        [0.4939],\n",
      "        [0.4984],\n",
      "        [0.4690],\n",
      "        [0.4531],\n",
      "        [0.4418],\n",
      "        [0.4486],\n",
      "        [0.4463],\n",
      "        [0.4440],\n",
      "        [0.4236],\n",
      "        [0.4146],\n",
      "        [0.4259]]), tensor([0.4372]))\n"
     ]
    }
   ],
   "source": [
    "from torch.utils.data import TensorDataset, DataLoader\n",
    "\n",
    "train_dataset = TensorDataset(X_train_ts, y_train_ts)\n",
    "val_dataset = TensorDataset(X_val_ts, y_val_ts)\n",
    "test_dataset = TensorDataset(X_test_ts, y_test_ts)\n",
    "\n",
    "print(len(train_dataset))\n",
    "print(train_dataset[0])"
   ]
  },
  {
   "cell_type": "code",
   "execution_count": 15,
   "id": "ce5b8d0c",
   "metadata": {},
   "outputs": [],
   "source": [
    "batch_size = 50\n",
    "\n",
    "train_dataloader = DataLoader(train_dataset, batch_size=batch_size)\n",
    "val_dataloader = DataLoader(val_dataset, batch_size=batch_size)\n",
    "test_dataloader = DataLoader(test_dataset, batch_size=batch_size)"
   ]
  },
  {
   "cell_type": "markdown",
   "id": "e16cf0d5",
   "metadata": {},
   "source": [
    "# 6. 모델 만들기"
   ]
  },
  {
   "cell_type": "code",
   "execution_count": 16,
   "id": "bf8229fb",
   "metadata": {},
   "outputs": [],
   "source": [
    "import torch.nn as nn\n",
    "\n",
    "class LSTMRegressor(nn.Module):\n",
    "    def __init__(self, input_size, hidden_size, num_layers, dropout):\n",
    "        super().__init__()\n",
    "        self.lstm = nn.LSTM(\n",
    "            input_size,\n",
    "            hidden_size,\n",
    "            num_layers,\n",
    "            batch_first = True,\n",
    "            dropout = dropout if num_layers > 1 else 0\n",
    "        )\n",
    "        self.fc = nn.Linear(in_features = hidden_size, out_features = 1)\n",
    "    \n",
    "    def forward(self, x):\n",
    "        # out : 모든 시점의 요약\n",
    "        # hn : 마지막 시점의 Hidden State\n",
    "        # cn : 마지막 시점의 Cell State\n",
    "        out, (hn, cn) = self.lstm(x)\n",
    "        pred = self.fc(hn[-1])\n",
    "        return pred"
   ]
  },
  {
   "cell_type": "code",
   "execution_count": 17,
   "id": "6dae8b11",
   "metadata": {},
   "outputs": [],
   "source": [
    "model = LSTMRegressor(\n",
    "    input_size=1,\n",
    "    hidden_size=128,\n",
    "    num_layers=2,\n",
    "    dropout=0.2\n",
    ")"
   ]
  },
  {
   "cell_type": "markdown",
   "id": "5f87b4cf",
   "metadata": {},
   "source": [
    "# 7. 학습하기"
   ]
  },
  {
   "cell_type": "code",
   "execution_count": 18,
   "id": "cc1fe06b",
   "metadata": {},
   "outputs": [],
   "source": [
    "from tensorboardX import SummaryWriter\n",
    "writer = SummaryWriter()"
   ]
  },
  {
   "cell_type": "code",
   "execution_count": 19,
   "id": "18ecf72d",
   "metadata": {},
   "outputs": [
    {
     "name": "stderr",
     "output_type": "stream",
     "text": [
      "100%|██████████| 3/3 [00:00<00:00, 164.53it/s]\n"
     ]
    },
    {
     "name": "stdout",
     "output_type": "stream",
     "text": [
      "EPOCH 0 : train_loss = 0.1353 val_loss = 0.15341269969940186\n"
     ]
    },
    {
     "name": "stderr",
     "output_type": "stream",
     "text": [
      "100%|██████████| 3/3 [00:00<00:00, 583.38it/s]\n"
     ]
    },
    {
     "name": "stdout",
     "output_type": "stream",
     "text": [
      "EPOCH 1 : train_loss = 0.0689 val_loss = 0.07777345987657706\n"
     ]
    },
    {
     "name": "stderr",
     "output_type": "stream",
     "text": [
      "100%|██████████| 3/3 [00:00<00:00, 600.13it/s]\n"
     ]
    },
    {
     "name": "stdout",
     "output_type": "stream",
     "text": [
      "EPOCH 2 : train_loss = 0.0528 val_loss = 0.08512668559948604\n"
     ]
    },
    {
     "name": "stderr",
     "output_type": "stream",
     "text": [
      "100%|██████████| 3/3 [00:00<00:00, 750.01it/s]\n"
     ]
    },
    {
     "name": "stdout",
     "output_type": "stream",
     "text": [
      "EPOCH 3 : train_loss = 0.0405 val_loss = 0.017210179784645636\n"
     ]
    },
    {
     "name": "stderr",
     "output_type": "stream",
     "text": [
      "100%|██████████| 3/3 [00:00<00:00, 546.18it/s]\n"
     ]
    },
    {
     "name": "stdout",
     "output_type": "stream",
     "text": [
      "EPOCH 4 : train_loss = 0.0178 val_loss = 0.10976413637399673\n"
     ]
    },
    {
     "name": "stderr",
     "output_type": "stream",
     "text": [
      "100%|██████████| 3/3 [00:00<00:00, 581.28it/s]"
     ]
    },
    {
     "name": "stdout",
     "output_type": "stream",
     "text": [
      "EPOCH 5 : train_loss = 0.0434 val_loss = 0.02060620579868555\n"
     ]
    },
    {
     "name": "stderr",
     "output_type": "stream",
     "text": [
      "\n",
      "100%|██████████| 3/3 [00:00<00:00, 555.32it/s]\n"
     ]
    },
    {
     "name": "stdout",
     "output_type": "stream",
     "text": [
      "EPOCH 6 : train_loss = 0.0143 val_loss = 0.02356636120627324\n"
     ]
    },
    {
     "name": "stderr",
     "output_type": "stream",
     "text": [
      "100%|██████████| 3/3 [00:00<00:00, 599.56it/s]\n"
     ]
    },
    {
     "name": "stdout",
     "output_type": "stream",
     "text": [
      "EPOCH 7 : train_loss = 0.0065 val_loss = 0.010389410502587756\n"
     ]
    },
    {
     "name": "stderr",
     "output_type": "stream",
     "text": [
      "100%|██████████| 3/3 [00:00<00:00, 720.46it/s]\n"
     ]
    },
    {
     "name": "stdout",
     "output_type": "stream",
     "text": [
      "EPOCH 8 : train_loss = 0.0081 val_loss = 0.013853853413214287\n"
     ]
    },
    {
     "name": "stderr",
     "output_type": "stream",
     "text": [
      "100%|██████████| 3/3 [00:00<00:00, 490.01it/s]\n"
     ]
    },
    {
     "name": "stdout",
     "output_type": "stream",
     "text": [
      "EPOCH 9 : train_loss = 0.0091 val_loss = 0.02754560423394044\n"
     ]
    },
    {
     "name": "stderr",
     "output_type": "stream",
     "text": [
      "100%|██████████| 3/3 [00:00<00:00, 727.97it/s]\n"
     ]
    },
    {
     "name": "stdout",
     "output_type": "stream",
     "text": [
      "EPOCH 10 : train_loss = 0.0093 val_loss = 0.008425821705410877\n"
     ]
    },
    {
     "name": "stderr",
     "output_type": "stream",
     "text": [
      "100%|██████████| 3/3 [00:00<00:00, 750.28it/s]\n"
     ]
    },
    {
     "name": "stdout",
     "output_type": "stream",
     "text": [
      "EPOCH 11 : train_loss = 0.0046 val_loss = 0.008486250958715877\n"
     ]
    },
    {
     "name": "stderr",
     "output_type": "stream",
     "text": [
      "100%|██████████| 3/3 [00:00<00:00, 727.71it/s]\n"
     ]
    },
    {
     "name": "stdout",
     "output_type": "stream",
     "text": [
      "EPOCH 12 : train_loss = 0.0051 val_loss = 0.027036816192169983\n"
     ]
    },
    {
     "name": "stderr",
     "output_type": "stream",
     "text": [
      "100%|██████████| 3/3 [00:00<00:00, 725.07it/s]\n"
     ]
    },
    {
     "name": "stdout",
     "output_type": "stream",
     "text": [
      "EPOCH 13 : train_loss = 0.0087 val_loss = 0.008443245897069573\n"
     ]
    },
    {
     "name": "stderr",
     "output_type": "stream",
     "text": [
      "100%|██████████| 3/3 [00:00<00:00, 731.18it/s]\n"
     ]
    },
    {
     "name": "stdout",
     "output_type": "stream",
     "text": [
      "EPOCH 14 : train_loss = 0.0030 val_loss = 0.0083555708018442\n"
     ]
    },
    {
     "name": "stderr",
     "output_type": "stream",
     "text": [
      "100%|██████████| 3/3 [00:00<00:00, 750.77it/s]\n"
     ]
    },
    {
     "name": "stdout",
     "output_type": "stream",
     "text": [
      "EPOCH 15 : train_loss = 0.0051 val_loss = 0.025303081298867863\n"
     ]
    },
    {
     "name": "stderr",
     "output_type": "stream",
     "text": [
      "100%|██████████| 3/3 [00:00<00:00, 750.28it/s]\n"
     ]
    },
    {
     "name": "stdout",
     "output_type": "stream",
     "text": [
      "EPOCH 16 : train_loss = 0.0088 val_loss = 0.010477307951077819\n"
     ]
    },
    {
     "name": "stderr",
     "output_type": "stream",
     "text": [
      "100%|██████████| 3/3 [00:00<00:00, 723.99it/s]\n"
     ]
    },
    {
     "name": "stdout",
     "output_type": "stream",
     "text": [
      "EPOCH 17 : train_loss = 0.0031 val_loss = 0.009850293165072799\n"
     ]
    },
    {
     "name": "stderr",
     "output_type": "stream",
     "text": [
      "100%|██████████| 3/3 [00:00<00:00, 723.49it/s]\n"
     ]
    },
    {
     "name": "stdout",
     "output_type": "stream",
     "text": [
      "EPOCH 18 : train_loss = 0.0056 val_loss = 0.01800022041425109\n"
     ]
    },
    {
     "name": "stderr",
     "output_type": "stream",
     "text": [
      "100%|██████████| 3/3 [00:00<00:00, 583.87it/s]"
     ]
    },
    {
     "name": "stdout",
     "output_type": "stream",
     "text": [
      "EPOCH 19 : train_loss = 0.0074 val_loss = 0.014254888830085596\n"
     ]
    },
    {
     "name": "stderr",
     "output_type": "stream",
     "text": [
      "\n"
     ]
    }
   ],
   "source": [
    "import torch.nn as nn\n",
    "from torch.optim.adam import Adam\n",
    "import tqdm\n",
    "\n",
    "device = torch.device('cuda' if torch.cuda.is_available else 'cpu')\n",
    "\n",
    "model = model.to(device)\n",
    "\n",
    "lr = 1e-3\n",
    "optim = Adam(model.parameters(), lr=lr)\n",
    "epoches = 20\n",
    "criterion = nn.MSELoss()\n",
    "\n",
    "best_val_loss = float(\"inf\")\n",
    "patience = 0\n",
    "loss_history = []\n",
    "\n",
    "step = 0\n",
    "\n",
    "# 학습 \n",
    "for epoch in range(epoches):\n",
    "    # Train\n",
    "    model.train()\n",
    "\n",
    "    train_loss_history = []\n",
    "    for data, label in train_dataloader:\n",
    "        data = data.to(device)\n",
    "        label = label.to(device)\n",
    "        optim.zero_grad()\n",
    "\n",
    "        y_pred = model(data)\n",
    "\n",
    "        loss = criterion(y_pred, label)\n",
    "        loss.backward()\n",
    "\n",
    "        optim.step()\n",
    "\n",
    "        train_loss_history.append(loss.item())\n",
    "\n",
    "    # Validation \n",
    "    model.eval()\n",
    "\n",
    "    val_loss_history = []\n",
    "    with torch.no_grad():\n",
    "        for data, label in tqdm.tqdm(val_dataloader):\n",
    "            data = data.to(device)\n",
    "            label = label.to(device)\n",
    "\n",
    "            y_pred = model(data)\n",
    "            loss = criterion(y_pred, label)\n",
    "            val_loss_history.append(loss.item())\n",
    "    \n",
    "    # 출력\n",
    "    train_loss = float(np.mean(train_loss_history))\n",
    "    val_loss = float(np.mean(val_loss_history))\n",
    "\n",
    "    loss_history.append(train_loss)\n",
    "    print(f\"EPOCH {epoch} : train_loss = {train_loss:.4f} val_loss = {val_loss}\")\n",
    "    writer.add_scalar(\"Loss/train\", train_loss, step)\n",
    "    writer.add_scalar(\"Loss/val\", val_loss, step)\n",
    "    step += 1\n",
    "    \n",
    "    # 학습 끝내는 조건\n",
    "    if val_loss < best_val_loss:\n",
    "        best_val_loss = val_loss\n",
    "        patience = 0\n",
    "        torch.save(model.state_dict(), \"./models/best_model.pth\")\n",
    "    else:\n",
    "        patience += 1\n",
    "        if patience >= 5:\n",
    "            break\n",
    "\n",
    "# 학습 저장\n",
    "torch.save(model.state_dict(), \"./models/last.pt\")"
   ]
  },
  {
   "cell_type": "code",
   "execution_count": 20,
   "id": "f5043b3d",
   "metadata": {},
   "outputs": [
    {
     "data": {
      "text/plain": [
       "Text(0, 0.5, 'loss')"
      ]
     },
     "execution_count": 20,
     "metadata": {},
     "output_type": "execute_result"
    },
    {
     "data": {
      "image/png": "[encoded data removed]",
      "text/plain": [
       "<Figure size 500x300 with 1 Axes>"
      ]
     },
     "metadata": {},
     "output_type": "display_data"
    }
   ],
   "source": [
    "import matplotlib.pyplot as plt \n",
    "\n",
    "plt.figure(figsize=(5,3))\n",
    "plt.plot(loss_history)\n",
    "plt.title(\"loss\")\n",
    "plt.xlabel(\"epoch\")\n",
    "plt.ylabel(\"loss\")"
   ]
  },
  {
   "cell_type": "markdown",
   "id": "42ed5f60",
   "metadata": {},
   "source": [
    "# 8. 평가하기"
   ]
  },
  {
   "cell_type": "code",
   "execution_count": 21,
   "id": "b58cda8d",
   "metadata": {},
   "outputs": [
    {
     "name": "stdout",
     "output_type": "stream",
     "text": [
      "0.06366269513964654\n"
     ]
    },
    {
     "name": "stderr",
     "output_type": "stream",
     "text": [
      "c:\\Potenup\\DeepLearning-LLM-Study\\.venv\\Lib\\site-packages\\torch\\nn\\modules\\loss.py:616: UserWarning: Using a target size (torch.Size([50, 60])) that is different to the input size (torch.Size([50, 1])). This will likely lead to incorrect results due to broadcasting. Please ensure they have the same size.\n",
      "  return F.mse_loss(input, target, reduction=self.reduction)\n",
      "c:\\Potenup\\DeepLearning-LLM-Study\\.venv\\Lib\\site-packages\\torch\\nn\\modules\\loss.py:616: UserWarning: Using a target size (torch.Size([44, 60])) that is different to the input size (torch.Size([44, 1])). This will likely lead to incorrect results due to broadcasting. Please ensure they have the same size.\n",
      "  return F.mse_loss(input, target, reduction=self.reduction)\n"
     ]
    }
   ],
   "source": [
    "# Validation \n",
    "model.eval()\n",
    "\n",
    "test_loss_history = []\n",
    "with torch.no_grad():\n",
    "    for data, label in test_dataloader:\n",
    "        data = data.to(device)\n",
    "        label = label.to(device)\n",
    "        label = np.squeeze(label, axis=2)\n",
    "\n",
    "        pred = model(data)\n",
    "        loss = criterion(pred, label)\n",
    "        test_loss_history.append(loss.item())\n",
    "\n",
    "print(float(np.mean(test_loss_history)))"
   ]
  },
  {
   "cell_type": "code",
   "execution_count": 22,
   "id": "911feedd",
   "metadata": {},
   "outputs": [
    {
     "name": "stdout",
     "output_type": "stream",
     "text": [
      "0.7795664072036743\n",
      "0.7647687196731567\n",
      "0.7418975830078125\n",
      "0.7249451279640198\n",
      "0.7150919437408447\n",
      "0.7116766571998596\n",
      "0.7148334980010986\n",
      "0.7215568423271179\n",
      "0.7324337363243103\n",
      "0.7445034980773926\n",
      "0.7563294768333435\n",
      "0.7702205181121826\n",
      "0.7805173993110657\n",
      "0.7828635573387146\n",
      "0.7880908846855164\n",
      "0.7983523011207581\n",
      "0.8050593733787537\n",
      "0.8113585114479065\n",
      "0.8149589896202087\n",
      "0.8153254389762878\n",
      "0.8150666356086731\n",
      "0.8306190371513367\n",
      "0.8587403297424316\n",
      "0.8893436193466187\n",
      "0.9323377013206482\n",
      "0.9827751517295837\n",
      "1.034257173538208\n",
      "1.0740067958831787\n",
      "1.104001760482788\n",
      "1.1213665008544922\n",
      "1.1452094316482544\n",
      "1.1633156538009644\n",
      "1.1757663488388062\n",
      "1.1753870248794556\n",
      "1.1689592599868774\n",
      "1.1568306684494019\n",
      "1.1496151685714722\n",
      "1.144405722618103\n",
      "1.1416821479797363\n",
      "1.1358858346939087\n",
      "1.1376713514328003\n",
      "1.140272617340088\n",
      "1.1373428106307983\n",
      "1.1377670764923096\n",
      "1.1520096063613892\n",
      "1.1579420566558838\n",
      "1.1692792177200317\n",
      "1.179276704788208\n",
      "1.1727674007415771\n",
      "1.1545392274856567\n",
      "1.13827383518219\n",
      "1.1175459623336792\n",
      "1.0908721685409546\n",
      "1.0655335187911987\n",
      "1.039459228515625\n",
      "1.0189510583877563\n",
      "1.0047909021377563\n",
      "0.98631352186203\n",
      "0.9600778222084045\n",
      "0.9497073292732239\n",
      "0.943257749080658\n",
      "0.9440574049949646\n",
      "0.9433925747871399\n",
      "0.9372221827507019\n",
      "0.9340645670890808\n",
      "0.9481279253959656\n",
      "0.9687953591346741\n",
      "0.9873705506324768\n",
      "1.0118106603622437\n",
      "1.0289301872253418\n",
      "1.0466562509536743\n",
      "1.0638567209243774\n",
      "1.0793699026107788\n",
      "1.0935561656951904\n",
      "1.1044856309890747\n",
      "1.1127170324325562\n",
      "1.1271065473556519\n",
      "1.1386055946350098\n",
      "1.1448336839675903\n",
      "1.1543093919754028\n",
      "1.192396879196167\n",
      "1.2271064519882202\n",
      "1.2529979944229126\n",
      "1.2915698289871216\n",
      "1.3279060125350952\n",
      "1.3575762510299683\n",
      "1.3782460689544678\n",
      "1.3903931379318237\n",
      "1.406465768814087\n",
      "1.4255732297897339\n",
      "1.4372466802597046\n",
      "1.4501254558563232\n",
      "1.4523401260375977\n",
      "1.4500943422317505\n",
      "1.4198073148727417\n",
      "1.3603570461273193\n",
      "1.293921947479248\n",
      "1.2405136823654175\n",
      "1.1904929876327515\n",
      "1.1439164876937866\n",
      "1.0971180200576782\n",
      "1.0695956945419312\n",
      "1.049543023109436\n",
      "1.0318721532821655\n",
      "1.0231724977493286\n",
      "1.0259677171707153\n",
      "1.0314682722091675\n",
      "1.0359628200531006\n",
      "1.0369898080825806\n",
      "1.0297367572784424\n",
      "1.0257341861724854\n",
      "1.0251206159591675\n",
      "1.0223218202590942\n",
      "1.0353182554244995\n",
      "1.051751732826233\n",
      "1.0635737180709839\n",
      "1.0661211013793945\n",
      "1.0715750455856323\n",
      "1.071731686592102\n",
      "1.073506236076355\n",
      "1.0666894912719727\n",
      "1.060815691947937\n",
      "1.0522663593292236\n",
      "1.0457887649536133\n",
      "1.0392709970474243\n",
      "1.033408761024475\n",
      "1.0323349237442017\n",
      "1.0251730680465698\n",
      "1.0127053260803223\n",
      "0.9974032044410706\n",
      "0.9803653359413147\n",
      "0.9637120366096497\n",
      "0.9504194855690002\n",
      "0.9385797381401062\n",
      "0.9229992628097534\n",
      "0.9063016176223755\n",
      "0.897887647151947\n",
      "0.8904119729995728\n",
      "0.8801997303962708\n",
      "0.8595547080039978\n",
      "0.8281897902488708\n",
      "0.7911785840988159\n",
      "0.7578727602958679\n",
      "0.7504287362098694\n",
      "0.755195140838623\n",
      "0.7599928975105286\n",
      "0.7665042281150818\n",
      "0.7688868045806885\n",
      "0.7734184861183167\n",
      "0.7792794108390808\n",
      "0.7809950709342957\n",
      "0.7879965901374817\n",
      "0.7960039377212524\n",
      "0.8081756830215454\n",
      "0.8180922865867615\n",
      "0.828253984451294\n",
      "0.8398253917694092\n",
      "0.8469842076301575\n",
      "0.8616824746131897\n",
      "0.8772624135017395\n",
      "0.8943652510643005\n",
      "0.9081867337226868\n",
      "0.9191506505012512\n",
      "0.9301028251647949\n",
      "0.9460678696632385\n",
      "0.9552484154701233\n",
      "0.9609327912330627\n",
      "0.9601836800575256\n",
      "0.9555997252464294\n",
      "0.9504473805427551\n",
      "0.9438387155532837\n",
      "0.9402517676353455\n",
      "0.9485755562782288\n",
      "0.955899178981781\n",
      "0.9564517140388489\n",
      "0.9546443819999695\n",
      "0.9483779072761536\n",
      "0.9419178366661072\n",
      "0.9415379166603088\n",
      "0.9317982792854309\n",
      "0.9230177402496338\n",
      "0.9151558876037598\n",
      "0.9079411625862122\n",
      "0.8981865644454956\n",
      "0.8837799429893494\n",
      "0.8727129101753235\n",
      "0.8648975491523743\n",
      "0.86009681224823\n",
      "0.8556360006332397\n",
      "0.8567450642585754\n",
      "0.853261411190033\n",
      "0.8524537682533264\n",
      "0.8521726727485657\n",
      "0.853035032749176\n",
      "0.85965496301651\n",
      "0.8619031310081482\n",
      "0.8637842535972595\n",
      "0.8640004396438599\n",
      "0.8705595135688782\n",
      "0.8704850673675537\n",
      "0.8691896796226501\n",
      "0.8676255345344543\n",
      "0.867233395576477\n",
      "0.8668766617774963\n",
      "0.8693248629570007\n",
      "0.869631290435791\n",
      "0.8709771037101746\n",
      "0.8695252537727356\n",
      "0.8765776753425598\n",
      "0.905430257320404\n",
      "0.9396608471870422\n",
      "0.9760065674781799\n",
      "1.0146682262420654\n",
      "1.0445679426193237\n",
      "1.0731900930404663\n",
      "1.0877817869186401\n",
      "1.1015881299972534\n",
      "1.1131089925765991\n",
      "1.1212518215179443\n",
      "1.128088116645813\n",
      "1.1372438669204712\n",
      "1.1589246988296509\n",
      "1.1814886331558228\n",
      "1.2015284299850464\n",
      "1.2123751640319824\n",
      "1.217850923538208\n",
      "1.2145596742630005\n",
      "1.1873584985733032\n",
      "1.1593964099884033\n",
      "1.1273951530456543\n",
      "1.0924733877182007\n",
      "1.0551732778549194\n",
      "1.0208090543746948\n",
      "0.9923763871192932\n",
      "0.9762136340141296\n",
      "0.9652531743049622\n",
      "0.9605081677436829\n",
      "0.9588900208473206\n",
      "0.9588542580604553\n",
      "0.9612734913825989\n",
      "0.9616439938545227\n",
      "0.9652292132377625\n",
      "0.9687433838844299\n",
      "0.9745379090309143\n"
     ]
    }
   ],
   "source": [
    "X_test_ts = torch.FloatTensor(X_test)\n",
    "y_test_ts = torch.FloatTensor(y_test)\n",
    "\n",
    "# 예측값 저장\n",
    "pred_history = []\n",
    "for i in range(len(X_test_ts)):\n",
    "    with torch.no_grad():\n",
    "        data = X_test_ts[i].to(device)\n",
    "        pred = model(data.unsqueeze(dim=0))\n",
    "        print(pred.item())\n",
    "        pred_history.append(pred.item())"
   ]
  },
  {
   "cell_type": "code",
   "execution_count": 23,
   "id": "69f489f2",
   "metadata": {},
   "outputs": [],
   "source": [
    "# Scaler 되돌리기 \n",
    "pred_inverse = scaler.inverse_transform(np.array(pred_history).reshape(-1,1))\n",
    "# print(np.array(pred_history))\n",
    "# print(np.array(pred_history).reshape(-1,1))\n",
    "# print(pred_inverse)\n",
    "\n",
    "y_test_inverse = scaler.inverse_transform(y_test_ts)"
   ]
  },
  {
   "cell_type": "code",
   "execution_count": 24,
   "id": "dc308bfe",
   "metadata": {},
   "outputs": [
    {
     "data": {
      "image/png": "[encoded data removed]",
      "text/plain": [
       "<Figure size 1000x400 with 1 Axes>"
      ]
     },
     "metadata": {},
     "output_type": "display_data"
    }
   ],
   "source": [
    "plt.figure(figsize=(10,4))\n",
    "plt.plot(np.arange(len(pred_inverse)), pred_inverse, label=\"pred\", color=\"r\")\n",
    "plt.plot(np.arange(len(y_test_inverse)), y_test_inverse, label=\"Ture\", color=\"b\")\n",
    "plt.legend()\n",
    "plt.title(\"Time Series Data Analysis\")\n",
    "plt.show()"
   ]
  }
 ],
 "metadata": {
  "kernelspec": {
   "display_name": "DeepLearning-LLM-Study (3.11.13)",
   "language": "python",
   "name": "python3"
  },
  "language_info": {
   "codemirror_mode": {
    "name": "ipython",
    "version": 3
   },
   "file_extension": ".py",
   "mimetype": "text/x-python",
   "name": "python",
   "nbconvert_exporter": "python",
   "pygments_lexer": "ipython3",
   "version": "3.11.13"
  }
 },
 "nbformat": 4,
 "nbformat_minor": 5
}
